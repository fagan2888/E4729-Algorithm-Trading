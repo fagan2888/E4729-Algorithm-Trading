{
 "cells": [
  {
   "cell_type": "markdown",
   "metadata": {},
   "source": [
    "# Time series demo 5: stub code for MA(q) models on synthetic data\n",
    "\n",
    "**Guest lecture**\n",
    "\n",
    "Columbia IEOR 4729 : _Model Based Trading: Theory and Practice_\n",
    "\n",
    "Q McCallum (http://qethanm.cc)"
   ]
  },
  {
   "cell_type": "code",
   "execution_count": null,
   "metadata": {},
   "outputs": [],
   "source": []
  },
  {
   "cell_type": "code",
   "execution_count": null,
   "metadata": {},
   "outputs": [],
   "source": [
    "import numpy as np\n",
    "import statsmodels.api as sm\n",
    "import pandas as pd\n",
    "import matplotlib.pyplot as plt"
   ]
  },
  {
   "cell_type": "code",
   "execution_count": null,
   "metadata": {},
   "outputs": [],
   "source": [
    "## %matplotlib inline"
   ]
  },
  {
   "cell_type": "code",
   "execution_count": null,
   "metadata": {},
   "outputs": [],
   "source": [
    "np.random.seed( 4729 )"
   ]
  },
  {
   "cell_type": "markdown",
   "metadata": {},
   "source": [
    "Same as with our AR exercises: we use use `statsmodels` builtins to generate synthetic data that fits a moving average MA(2) model.\n",
    "\n",
    "Of note:\n",
    "\n",
    "- Since we're using an ARMA generator, we only pass in parameters for the moving average portion (and leave the params for the autoregressive portion blank)\n",
    "- Unlike with the AR parameters, we pass `ArmaProcess` the MA parameters as-is.  No need to make these negative."
   ]
  },
  {
   "cell_type": "code",
   "execution_count": null,
   "metadata": {},
   "outputs": [],
   "source": []
  },
  {
   "cell_type": "code",
   "execution_count": null,
   "metadata": {},
   "outputs": [],
   "source": [
    "ma_process = sm.tsa.ArmaProcess(\n",
    "    ar = [ 1 ] ,\n",
    "    ma = [ 1 , 0.6 , 0.3 ] ,\n",
    ")"
   ]
  },
  {
   "cell_type": "code",
   "execution_count": null,
   "metadata": {},
   "outputs": [],
   "source": [
    "y_ma = ma_process.generate_sample(\n",
    "    500 ,\n",
    "    burnin = 1000\n",
    ")"
   ]
  },
  {
   "cell_type": "code",
   "execution_count": null,
   "metadata": {},
   "outputs": [],
   "source": []
  },
  {
   "cell_type": "code",
   "execution_count": null,
   "metadata": {},
   "outputs": [],
   "source": [
    "_ = pd.Series( y_ma ).plot(\n",
    "    title = \"MA(3) data\" ,\n",
    "    figsize = ( 20 , 6 )\n",
    ")"
   ]
  },
  {
   "cell_type": "code",
   "execution_count": null,
   "metadata": {},
   "outputs": [],
   "source": [
    "_ = sm.graphics.tsa.plot_acf( y_ma )\n",
    "_ = sm.graphics.tsa.plot_pacf( y_ma )"
   ]
  },
  {
   "cell_type": "code",
   "execution_count": null,
   "metadata": {},
   "outputs": [],
   "source": []
  },
  {
   "cell_type": "code",
   "execution_count": null,
   "metadata": {},
   "outputs": [],
   "source": [
    "ma_p_to_try = [\n",
    "    (0 , 5) ,\n",
    "    (0 , 4) ,\n",
    "    (0 , 3) ,\n",
    "    (0 , 2) ,\n",
    "    (0 , 1) ,\n",
    "]\n",
    "\n",
    "for ma_p in ma_p_to_try :\n",
    "    print( \"trying parameters: {}\".format( ma_p ) )\n",
    "    model_testing = sm.tsa.ARMA( y_ma , ma_p ).fit( trend=\"nc\" , disp=0 )\n",
    "    ## model_testing = sm.tsa.AR( y_ar ).fit( maxlag=10 )\n",
    "\n",
    "    print( \"model params: {}\".format( model_testing.params ) )\n",
    "    print( \"AIC:     {}\".format( model_testing.aic ) )\n",
    "    print( \"BIC:     {}\".format( model_testing.bic ) )\n",
    "    print( \"sigma2:   {}\".format( model_testing.sigma2 ) )\n",
    "    print()\n",
    "    \n",
    "print( \"(Remember: lowest AIC wins)\" )\n",
    "\n",
    "\n"
   ]
  },
  {
   "cell_type": "code",
   "execution_count": null,
   "metadata": {},
   "outputs": [],
   "source": [
    "model_ma = sm.tsa.ARMA( y_ma , (0,2) )\n",
    "fit_ma = model_ma.fit( trend=\"nc\" , disp=0 )"
   ]
  },
  {
   "cell_type": "code",
   "execution_count": null,
   "metadata": {},
   "outputs": [],
   "source": [
    "fit_ma.summary()"
   ]
  },
  {
   "cell_type": "code",
   "execution_count": null,
   "metadata": {},
   "outputs": [],
   "source": []
  },
  {
   "cell_type": "code",
   "execution_count": null,
   "metadata": {},
   "outputs": [],
   "source": [
    "_ = pd.DataFrame(\n",
    "    {\n",
    "        \"y_ma\"   : y_ma , \n",
    "        \"model\"  : fit_ma.fittedvalues\n",
    "    }\n",
    ").plot(\n",
    "    title = \"MA(2) series: reality (y_ma) vs prediction (model)\" ,\n",
    "    figsize = ( 20 , 6 )\n",
    ")"
   ]
  },
  {
   "cell_type": "code",
   "execution_count": null,
   "metadata": {},
   "outputs": [],
   "source": []
  },
  {
   "cell_type": "code",
   "execution_count": null,
   "metadata": {},
   "outputs": [],
   "source": []
  },
  {
   "cell_type": "code",
   "execution_count": null,
   "metadata": {},
   "outputs": [],
   "source": []
  },
  {
   "cell_type": "code",
   "execution_count": null,
   "metadata": {},
   "outputs": [],
   "source": [
    "## So far, so good ... but ... remember the rule: check your residuals.\n",
    "_ = sm.graphics.tsa.plot_acf( fit_ma.resid )\n",
    "_ = sm.graphics.tsa.plot_pacf( fit_ma.resid )"
   ]
  },
  {
   "cell_type": "code",
   "execution_count": null,
   "metadata": {},
   "outputs": [],
   "source": []
  }
 ],
 "metadata": {
  "kernelspec": {
   "display_name": "Python 3",
   "language": "python",
   "name": "python3"
  },
  "language_info": {
   "codemirror_mode": {
    "name": "ipython",
    "version": 3
   },
   "file_extension": ".py",
   "mimetype": "text/x-python",
   "name": "python",
   "nbconvert_exporter": "python",
   "pygments_lexer": "ipython3",
   "version": "3.7.4"
  }
 },
 "nbformat": 4,
 "nbformat_minor": 2
}
