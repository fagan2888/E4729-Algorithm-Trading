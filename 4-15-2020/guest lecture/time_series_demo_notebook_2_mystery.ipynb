{
 "cells": [
  {
   "cell_type": "markdown",
   "metadata": {},
   "source": [
    "# Time series demo 2: mystery AR(p) model on synthetic data\n",
    "\n",
    "**Guest lecture**\n",
    "\n",
    "Columbia IEOR 4729 : _Model Based Trading: Theory and Practice_\n",
    "\n",
    "Q McCallum (http://qethanm.cc)"
   ]
  },
  {
   "cell_type": "code",
   "execution_count": null,
   "metadata": {},
   "outputs": [],
   "source": []
  },
  {
   "cell_type": "code",
   "execution_count": null,
   "metadata": {},
   "outputs": [],
   "source": [
    "import numpy as np\n",
    "import statsmodels.api as sm\n",
    "import pandas as pd\n",
    "import matplotlib.pyplot as plt"
   ]
  },
  {
   "cell_type": "code",
   "execution_count": null,
   "metadata": {},
   "outputs": [],
   "source": [
    "## %matplotlib inline"
   ]
  },
  {
   "cell_type": "code",
   "execution_count": null,
   "metadata": {},
   "outputs": [],
   "source": [
    "## Not setting random.seed() this time, to keep this sample honest.\n",
    "np.random.seed( 4729 )"
   ]
  },
  {
   "cell_type": "code",
   "execution_count": null,
   "metadata": {},
   "outputs": [],
   "source": [
    "## We'll build our AR model from one of the following sets of parameters.\n",
    "## (\"Which parameters?\" We'll choose them at random, below.)\n",
    "\n",
    "possible_ar_parameters = [\n",
    "    np.array( [ 0.75 , -0.25 ] ) ,\n",
    "    np.array( [ 0.50 , 0.35 ] ) ,\n",
    "    np.array( [ 0.50 , -0.35 ] ) ,\n",
    "    np.array( [ 0.75 , -0.25 , 0.15 ] ) ,\n",
    "    np.array( [ 0.75 , -0.55 , -0.25 , 0.15 ] ) ,\n",
    "    np.array( [ 0.75 , 0.55 , -0.60 ] ) ,\n",
    "    np.array( [ 0.60 , -0.50 , -0.4 ] ) ,\n",
    "    np.array( [ 0.50 , 0.35 ] ) ,\n",
    "]\n",
    "    \n",
    "\n",
    "def get_mystery_parameters():\n",
    "    ## choose the list index a random\n",
    "    list_index = np.random.randint( low=0 , high=len( possible_ar_parameters ) )\n",
    "    \n",
    "    ## pull the the AR model parameters, based on the list index\n",
    "    result = possible_ar_parameters[ list_index ]\n",
    "    \n",
    "    return result"
   ]
  },
  {
   "cell_type": "code",
   "execution_count": null,
   "metadata": {},
   "outputs": [],
   "source": [
    "ar_parameters_mystery = get_mystery_parameters()\n",
    "\n",
    "## just for demo purposes, so we can see some sample parameters:\n",
    "print( ar_parameters_mystery )"
   ]
  },
  {
   "cell_type": "code",
   "execution_count": null,
   "metadata": {},
   "outputs": [],
   "source": [
    "## Doing it for real this time.  We won't print the parameters\n",
    "## just yet, to keep ourselves honest.\n",
    "\n",
    "ar_parameters_mystery = get_mystery_parameters()"
   ]
  },
  {
   "cell_type": "code",
   "execution_count": null,
   "metadata": {},
   "outputs": [],
   "source": [
    "## Uncomment these for debugging:\n",
    "## print( ar_p_mystery )\n",
    "## print( ar_parameters_mystery )"
   ]
  },
  {
   "cell_type": "code",
   "execution_count": null,
   "metadata": {},
   "outputs": [],
   "source": [
    "## remember, we can't just pass in our mystery AR model parameters as-is;\n",
    "## we need to first pass in a 1 and then the _negative_ of the AR model \n",
    "## parameters:\n",
    "\n",
    "armaprocess_params_ar = [ 1 ]\n",
    "armaprocess_params_ar.extend( 0 - ar_parameters_mystery )"
   ]
  },
  {
   "cell_type": "code",
   "execution_count": null,
   "metadata": {},
   "outputs": [],
   "source": [
    "## still passing in `[1]` for the MA parameters because we still know that\n",
    "## this is _some_ kind of autoregressive model.  In a real-world situation,\n",
    "## we may not have such a luxury.\n",
    "\n",
    "process_ar_mystery = sm.tsa.ArmaProcess(\n",
    "    ar = armaprocess_params_ar ,\n",
    "    ma = [ 1 ]\n",
    ")"
   ]
  },
  {
   "cell_type": "code",
   "execution_count": null,
   "metadata": {},
   "outputs": [],
   "source": [
    "y_ar_mystery = process_ar_mystery.generate_sample(\n",
    "    500 ,\n",
    "    burnin = 100\n",
    ")"
   ]
  },
  {
   "cell_type": "code",
   "execution_count": null,
   "metadata": {},
   "outputs": [],
   "source": [
    "## take a quick look at the values\n",
    "y_ar_mystery[:10]"
   ]
  },
  {
   "cell_type": "code",
   "execution_count": null,
   "metadata": {
    "scrolled": true
   },
   "outputs": [],
   "source": [
    "## Well, how does the raw data look?\n",
    "_ = pd.Series( y_ar_mystery ).plot(\n",
    "    title = \"AR(?) data\" ,\n",
    "    figsize = ( 20 , 6 )\n",
    ")"
   ]
  },
  {
   "cell_type": "code",
   "execution_count": null,
   "metadata": {},
   "outputs": [],
   "source": [
    "## What do our diagnostics plots tell us?\n",
    "_ = sm.graphics.tsa.plot_acf( y_ar_mystery )\n",
    "_ = sm.graphics.tsa.plot_pacf( y_ar_mystery )\n"
   ]
  },
  {
   "cell_type": "code",
   "execution_count": null,
   "metadata": {},
   "outputs": [],
   "source": [
    "ar_p_to_try = [\n",
    "    (5,0) ,\n",
    "    (4,0) ,\n",
    "    (3,0) ,\n",
    "    (2,0) ,\n",
    "    (1,0) ,\n",
    "]\n",
    "\n",
    "param_search_results = []\n",
    "\n",
    "print( \"(Remember: lowest AIC wins)\" )\n",
    "\n",
    "for ar_p in ar_p_to_try :\n",
    "    print( \"trying parameters: {}\".format( ar_p ) )\n",
    "    try:\n",
    "        model_testing = sm.tsa.ARMA( y_ar_mystery , ar_p ).fit( trend=\"nc\" , disp=0 )\n",
    "\n",
    "        print( \"model params: {}\".format( model_testing.params ) )\n",
    "        print( \"AIC:     {}\".format( model_testing.aic ) )\n",
    "        print( \"BIC:     {}\".format( model_testing.bic ) )\n",
    "    except Exception as e:\n",
    "        print( \"problem testing model: {}\".format( e ) )\n",
    "    print()"
   ]
  },
  {
   "cell_type": "code",
   "execution_count": null,
   "metadata": {},
   "outputs": [],
   "source": [
    "## based on the above:\n",
    "testing_params = ( 2 , 0 )\n",
    "\n",
    "fit_ar_mystery = sm.tsa.ARMA( y_ar_mystery , testing_params ).fit( trend=\"nc\" , disp=0 )"
   ]
  },
  {
   "cell_type": "code",
   "execution_count": null,
   "metadata": {},
   "outputs": [],
   "source": [
    "fit_ar_mystery.summary()"
   ]
  },
  {
   "cell_type": "markdown",
   "metadata": {},
   "source": [
    "So ... what kind of model was this, really?"
   ]
  },
  {
   "cell_type": "code",
   "execution_count": null,
   "metadata": {},
   "outputs": [],
   "source": [
    "print( ar_parameters_mystery )"
   ]
  },
  {
   "cell_type": "code",
   "execution_count": null,
   "metadata": {},
   "outputs": [],
   "source": [
    "_ = pd.DataFrame(\n",
    "    {\n",
    "        \"y_ar\"   : y_ar_mystery , \n",
    "        \"model\"  : fit_ar_mystery.fittedvalues\n",
    "    }\n",
    ").plot(\n",
    "    title = \"AR(?) series: reality (y_ar) vs prediction (model)\" ,\n",
    "    figsize = ( 20 , 6 )\n",
    ")"
   ]
  },
  {
   "cell_type": "code",
   "execution_count": null,
   "metadata": {},
   "outputs": [],
   "source": []
  },
  {
   "cell_type": "code",
   "execution_count": null,
   "metadata": {},
   "outputs": [],
   "source": [
    "## Remember to check your model's residuals, too: do they look like white noise?\n",
    "_ = sm.graphics.tsa.plot_acf( fit_ar_mystery.resid )\n",
    "_ = sm.graphics.tsa.plot_pacf( fit_ar_mystery.resid )"
   ]
  },
  {
   "cell_type": "code",
   "execution_count": null,
   "metadata": {},
   "outputs": [],
   "source": []
  }
 ],
 "metadata": {
  "kernelspec": {
   "display_name": "Python 3",
   "language": "python",
   "name": "python3"
  },
  "language_info": {
   "codemirror_mode": {
    "name": "ipython",
    "version": 3
   },
   "file_extension": ".py",
   "mimetype": "text/x-python",
   "name": "python",
   "nbconvert_exporter": "python",
   "pygments_lexer": "ipython3",
   "version": "3.7.4"
  }
 },
 "nbformat": 4,
 "nbformat_minor": 2
}
