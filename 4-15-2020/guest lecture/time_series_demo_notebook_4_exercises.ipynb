{
 "cells": [
  {
   "cell_type": "markdown",
   "metadata": {},
   "source": [
    "# Time series demo 4: take-home exercises\n",
    "\n",
    "**Guest lecture**\n",
    "\n",
    "Columbia IEOR 4729 : _Model Based Trading: Theory and Practice_\n",
    "\n",
    "Q McCallum (http://qethanm.cc)"
   ]
  },
  {
   "cell_type": "markdown",
   "metadata": {},
   "source": [
    "If you're interested in exploring this topic more, I would recommend you:\n",
    "\n",
    "**1 - Review an introductory time series text to get a more thorough tour of the subject.**  _Introductory Time Series with R_ (Cowpertwait,Metcalfe) is my favorite.  It's a deceptively slim book that covers a _lot_ of ground.  Their sample code is in R but don't let that stop you.\n",
    "\n",
    "**2 - Plot other series, to recognize shapes of ACF and PACF plots.** For example: how do the ACF and PACF plots look for a linear series?  Sinusoidal data?  \n",
    "\n",
    "**3 - Try other model fits.** Tonight, we worked through some autoregressive time series. Try to adapt that code for moving average (MA) and autoregressive integrated moving average (ARIMA) models.\n",
    "\n",
    "The next notebook has sample code for moving average models.\n",
    "\n",
    "**4 - Explore tools to decompose a series.**  Create a series by mixing, say, sinusoidal data with an increasing linear trend.  Then try to work backwards to decompose it into those pieces, and model accordingly.\n",
    "\n",
    "**5 - Explore predictions.**  We only covered building and testing models tonight.  We didn't cover predictions.  Try to work through how to do time series predictions in Python (hint: check out the `statsmodels` documentation for `statsmodels.tsa.arima_model.ARMAResultsWrapper`.  This is the datatype of the `fit_ar_...` variables we used tonight.\n",
    "\n",
    "\n",
    "Of special note for predictions: in order to test your models' predictive power, you'll need to test them somehow, right?  To do that: \n",
    "\n",
    "    ## generate, say, 1500 points\n",
    "    y_ar = ar_process.generate_sample( 1500 )\n",
    "    \n",
    "    ## split that into a training set and a test set\n",
    "    y_ar_train = y_ar[ :1000 ]\n",
    "    y_ar_test = y_ar[ 1000 : ]\n",
    "    \n",
    "    ## feed just the training set to ARMA()\n",
    "    model_ar = sm.tsa.ARMA( y_ar_train , ... )\n",
    "    fit_ar = model_Ar.fit( ... )\n",
    "    \n",
    "    ## predict the next 500 values\n",
    "    y_ar_predict = fit_ar.predict( .... )\n",
    "    \n",
    "    \n",
    "    ## Compare y_predict to y_ar_test"
   ]
  },
  {
   "cell_type": "code",
   "execution_count": null,
   "metadata": {},
   "outputs": [],
   "source": []
  }
 ],
 "metadata": {
  "kernelspec": {
   "display_name": "Python 3",
   "language": "python",
   "name": "python3"
  },
  "language_info": {
   "codemirror_mode": {
    "name": "ipython",
    "version": 3
   },
   "file_extension": ".py",
   "mimetype": "text/x-python",
   "name": "python",
   "nbconvert_exporter": "python",
   "pygments_lexer": "ipython3",
   "version": "3.7.4"
  }
 },
 "nbformat": 4,
 "nbformat_minor": 2
}
