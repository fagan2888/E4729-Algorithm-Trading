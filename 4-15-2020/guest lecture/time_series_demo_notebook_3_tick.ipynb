{
 "cells": [
  {
   "cell_type": "markdown",
   "metadata": {},
   "source": [
    "# Time series demo 3: AR(p) models on real tick data\n",
    "\n",
    "**Guest lecture**\n",
    "\n",
    "Columbia IEOR 4729 : _Model Based Trading: Theory and Practice_\n",
    "\n",
    "Q McCallum (http://qethanm.cc)"
   ]
  },
  {
   "cell_type": "code",
   "execution_count": null,
   "metadata": {},
   "outputs": [],
   "source": []
  },
  {
   "cell_type": "code",
   "execution_count": null,
   "metadata": {},
   "outputs": [],
   "source": [
    "import numpy as np\n",
    "import statsmodels.api as sm\n",
    "import pandas as pd\n",
    "import matplotlib.pyplot as plt"
   ]
  },
  {
   "cell_type": "code",
   "execution_count": null,
   "metadata": {},
   "outputs": [],
   "source": [
    "## %matplotlib inline"
   ]
  },
  {
   "cell_type": "code",
   "execution_count": null,
   "metadata": {},
   "outputs": [],
   "source": [
    "np.random.seed( 4729 )"
   ]
  },
  {
   "cell_type": "code",
   "execution_count": null,
   "metadata": {},
   "outputs": [],
   "source": [
    "## local: \n",
    "data_file = \"data/GOOG-trades-20190901-20190930-382d94c05e6b384c.pkl.bz2\""
   ]
  },
  {
   "cell_type": "code",
   "execution_count": null,
   "metadata": {},
   "outputs": [],
   "source": [
    "data_raw = pd.read_pickle( data_file )"
   ]
  },
  {
   "cell_type": "code",
   "execution_count": null,
   "metadata": {},
   "outputs": [],
   "source": [
    "data_raw.columns"
   ]
  },
  {
   "cell_type": "code",
   "execution_count": null,
   "metadata": {},
   "outputs": [],
   "source": [
    "len( data_raw )"
   ]
  },
  {
   "cell_type": "code",
   "execution_count": null,
   "metadata": {},
   "outputs": [],
   "source": [
    "## That's a lot of data for this example, so let's take the first\n",
    "## few thousand values.\n",
    "\n",
    "## For the sake of example, we are making the (very big!) assumption that the\n",
    "## data will fit an autoregressive model...\n",
    "y_ar_tick = data_raw[ \"PRICE\" ][ 1000:2000 ]"
   ]
  },
  {
   "cell_type": "code",
   "execution_count": null,
   "metadata": {},
   "outputs": [],
   "source": [
    "y_ar_tick[:10]"
   ]
  },
  {
   "cell_type": "code",
   "execution_count": null,
   "metadata": {},
   "outputs": [],
   "source": [
    "## Well, how does the raw data look?\n",
    "_ = pd.Series( y_ar_tick ).plot(\n",
    "    title = \"AR(?) data\" ,\n",
    "    figsize = ( 20 , 6 )\n",
    ")\n",
    "\n",
    "## Looking like a random walk ..."
   ]
  },
  {
   "cell_type": "code",
   "execution_count": null,
   "metadata": {},
   "outputs": [],
   "source": [
    "## As always, let's check those ACF and PACFs\n",
    "_ = sm.graphics.tsa.plot_acf( y_ar_tick )\n",
    "_ = sm.graphics.tsa.plot_pacf( y_ar_tick )\n"
   ]
  },
  {
   "cell_type": "markdown",
   "metadata": {},
   "source": [
    "So ... these ACF and PACF plots are indicative of a random walk.  Notice the slow degrade on the ACF/correlogram, compared to the what you see with white noise."
   ]
  },
  {
   "cell_type": "code",
   "execution_count": null,
   "metadata": {},
   "outputs": [],
   "source": [
    "## Still, let's try to fit this series to a model. \n",
    "## Our trusty for() loop makes a return:\n",
    "\n",
    "ar_p_to_try = [\n",
    "    (5,0) ,\n",
    "    (4,0) ,\n",
    "    (3,0) ,\n",
    "    (2,0) ,\n",
    "    (1,0) ,\n",
    "]\n",
    "\n",
    "param_search_results = []\n",
    "\n",
    "print( \"(Remember: lowest AIC wins)\" )\n",
    "\n",
    "for ar_p in ar_p_to_try :\n",
    "    print( \"trying parameters: {}\".format( ar_p ) )\n",
    "    model_testing = sm.tsa.ARMA( y_ar_tick , ar_p ).fit( trend=\"nc\" , disp=0 )\n",
    "    ## model_testing = sm.tsa.AR( y_ar ).fit( maxlag=10 )\n",
    "\n",
    "    print( \"model params: {}\".format( model_testing.params ) )\n",
    "    print( \"AIC:     {}\".format( model_testing.aic ) )\n",
    "    print( \"BIC:     {}\".format( model_testing.bic ) )\n",
    "    print()"
   ]
  },
  {
   "cell_type": "code",
   "execution_count": null,
   "metadata": {},
   "outputs": [],
   "source": [
    "testing_params = ( 5 , 0 )\n",
    "fit_ar_tick = sm.tsa.ARMA( y_ar_tick , testing_params ).fit( trend=\"nc\" , disp=0 )"
   ]
  },
  {
   "cell_type": "code",
   "execution_count": null,
   "metadata": {},
   "outputs": [],
   "source": [
    "fit_ar_tick.summary()"
   ]
  },
  {
   "cell_type": "code",
   "execution_count": null,
   "metadata": {},
   "outputs": [],
   "source": [
    "_ = pd.DataFrame(\n",
    "    {\n",
    "        \"y_ar\"   : y_ar_tick , \n",
    "        \"model\"  : fit_ar_tick.fittedvalues\n",
    "    }\n",
    ").plot(\n",
    "    title = \"AR( ? ) series: reality/tick (y_ar) vs prediction (model)\" ,\n",
    "    figsize = ( 20 , 6 )\n",
    ")"
   ]
  },
  {
   "cell_type": "code",
   "execution_count": null,
   "metadata": {},
   "outputs": [],
   "source": []
  },
  {
   "cell_type": "code",
   "execution_count": null,
   "metadata": {},
   "outputs": [],
   "source": [
    "## Don't forget to check those residuals!\n",
    "_ = sm.graphics.tsa.plot_acf( fit_ar_tick.resid )\n",
    "_ = sm.graphics.tsa.plot_pacf( fit_ar_tick.resid )"
   ]
  },
  {
   "cell_type": "code",
   "execution_count": null,
   "metadata": {},
   "outputs": [],
   "source": [
    "## ##############################################################"
   ]
  },
  {
   "cell_type": "markdown",
   "metadata": {},
   "source": [
    "## Let's try this again ..."
   ]
  },
  {
   "cell_type": "code",
   "execution_count": null,
   "metadata": {},
   "outputs": [],
   "source": [
    "## The _second_ time we run this, we handle the integrated series\n",
    "## (aka we take the _diff_ of the values) and try again.\n",
    "y_ar_tick_diff = y_ar_tick.diff()"
   ]
  },
  {
   "cell_type": "code",
   "execution_count": null,
   "metadata": {},
   "outputs": [],
   "source": [
    "## How does this diff look?\n",
    "## Let's inspect the first few values\n",
    "y_ar_tick_diff[:20]"
   ]
  },
  {
   "cell_type": "code",
   "execution_count": null,
   "metadata": {},
   "outputs": [],
   "source": [
    "## We drop the first term, since the first item in the diff()\n",
    "## result is NaN ... and that _really_ throws off the rest\n",
    "## of the code.\n",
    "\n",
    "y_ar_tick_diff = y_ar_tick_diff[1:]"
   ]
  },
  {
   "cell_type": "code",
   "execution_count": null,
   "metadata": {},
   "outputs": [],
   "source": [
    "y_ar_tick_diff[:20]"
   ]
  },
  {
   "cell_type": "code",
   "execution_count": null,
   "metadata": {},
   "outputs": [],
   "source": [
    "## Well, how does the data look now?\n",
    "_ = pd.Series( y_ar_tick_diff ).plot(\n",
    "    title = \"AR(?) data\" ,\n",
    "    figsize = ( 20 , 6 )\n",
    ")\n",
    "\n",
    "## Looking like a random walk ..."
   ]
  },
  {
   "cell_type": "code",
   "execution_count": null,
   "metadata": {},
   "outputs": [],
   "source": [
    "## As always, let's check those ACF and PACFs\n",
    "_ = sm.graphics.tsa.plot_acf( y_ar_tick_diff )\n",
    "_ = sm.graphics.tsa.plot_pacf( y_ar_tick_diff )\n"
   ]
  },
  {
   "cell_type": "code",
   "execution_count": null,
   "metadata": {
    "scrolled": true
   },
   "outputs": [],
   "source": [
    "## Now, let's try to fit this again:\n",
    "\n",
    "ar_p_to_try = [\n",
    "    (5,0) ,\n",
    "    (4,0) ,\n",
    "    (3,0) ,\n",
    "    (2,0) ,\n",
    "    (1,0) ,\n",
    "]\n",
    "\n",
    "param_search_results = []\n",
    "\n",
    "print( \"(Remember: lowest AIC wins)\" )\n",
    "\n",
    "for ar_p in ar_p_to_try :\n",
    "    print( \"trying parameters: {}\".format( ar_p ) )\n",
    "    model_testing = sm.tsa.ARMA( y_ar_tick_diff , ar_p ).fit( trend=\"nc\" , disp=0 )\n",
    "    ## model_testing = sm.tsa.AR( y_ar ).fit( maxlag=10 )\n",
    "\n",
    "    print( \"model params: {}\".format( model_testing.params ) )\n",
    "    print( \"AIC:     {}\".format( model_testing.aic ) )\n",
    "    print( \"BIC:     {}\".format( model_testing.bic ) )\n",
    "    print()"
   ]
  },
  {
   "cell_type": "code",
   "execution_count": null,
   "metadata": {},
   "outputs": [],
   "source": [
    "testing_params = ( 3 , 0 )\n",
    "fit_ar_tick_diff = sm.tsa.ARMA( y_ar_tick_diff , testing_params ).fit( trend=\"nc\" , disp=0 )"
   ]
  },
  {
   "cell_type": "code",
   "execution_count": null,
   "metadata": {},
   "outputs": [],
   "source": [
    "fit_ar_tick.summary()"
   ]
  },
  {
   "cell_type": "code",
   "execution_count": null,
   "metadata": {},
   "outputs": [],
   "source": [
    "_ = pd.DataFrame(\n",
    "    {\n",
    "        \"y_ar\"   : y_ar_tick_diff , \n",
    "        \"model\"  : fit_ar_tick_diff.fittedvalues\n",
    "    }\n",
    ").plot(\n",
    "    title = \"AR( ? ) series: reality/tick (y_ar) vs prediction (model)\" ,\n",
    "    figsize = ( 20 , 6 )\n",
    ")"
   ]
  },
  {
   "cell_type": "code",
   "execution_count": null,
   "metadata": {},
   "outputs": [],
   "source": [
    "## Don't forget to check those residuals!\n",
    "_ = sm.graphics.tsa.plot_acf( fit_ar_tick_diff.resid )\n",
    "_ = sm.graphics.tsa.plot_pacf( fit_ar_tick_diff.resid )"
   ]
  },
  {
   "cell_type": "code",
   "execution_count": null,
   "metadata": {},
   "outputs": [],
   "source": []
  }
 ],
 "metadata": {
  "kernelspec": {
   "display_name": "Python 3",
   "language": "python",
   "name": "python3"
  },
  "language_info": {
   "codemirror_mode": {
    "name": "ipython",
    "version": 3
   },
   "file_extension": ".py",
   "mimetype": "text/x-python",
   "name": "python",
   "nbconvert_exporter": "python",
   "pygments_lexer": "ipython3",
   "version": "3.7.4"
  }
 },
 "nbformat": 4,
 "nbformat_minor": 2
}
