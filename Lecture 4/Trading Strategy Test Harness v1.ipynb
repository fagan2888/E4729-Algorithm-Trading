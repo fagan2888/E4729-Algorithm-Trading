{
 "cells": [
  {
   "cell_type": "markdown",
   "metadata": {},
   "source": [
    "# Trading Strategy Test Harness\n",
    "_Version 1.0_"
   ]
  },
  {
   "cell_type": "code",
   "execution_count": null,
   "metadata": {},
   "outputs": [],
   "source": [
    "%matplotlib inline\n",
    "\n",
    "import matplotlib\n",
    "import matplotlib.pyplot as plt\n",
    "import pandas as pd\n",
    "\n",
    "# load our helper functios\n",
    "from simtools import *\n",
    "\n",
    "matplotlib.rcParams[ 'figure.figsize' ] = ( 16, 9 )"
   ]
  },
  {
   "cell_type": "markdown",
   "metadata": {},
   "source": [
    "### Load Merged Data\n",
    "\n",
    "We'll assume we have already done some cleaning by using our Tick Data Setup or similar code"
   ]
  },
  {
   "cell_type": "code",
   "execution_count": null,
   "metadata": {},
   "outputs": [],
   "source": [
    "# set up some variables\n",
    "tickfile = '../data/TSLA-TAQ-aug19.zip'\n",
    "test_day = '2019-08-30'"
   ]
  },
  {
   "cell_type": "code",
   "execution_count": null,
   "metadata": {},
   "outputs": [],
   "source": [
    "# load tick data\n",
    "taq = pd.read_pickle(tickfile)"
   ]
  },
  {
   "cell_type": "code",
   "execution_count": null,
   "metadata": {},
   "outputs": [],
   "source": [
    "len(taq)"
   ]
  },
  {
   "cell_type": "code",
   "execution_count": null,
   "metadata": {},
   "outputs": [],
   "source": [
    "taq.tail()"
   ]
  },
  {
   "cell_type": "code",
   "execution_count": null,
   "metadata": {},
   "outputs": [],
   "source": [
    "# filter on date\n",
    "day = taq[test_day]"
   ]
  },
  {
   "cell_type": "markdown",
   "metadata": {},
   "source": [
    "## Main Processing Loop"
   ]
  },
  {
   "cell_type": "code",
   "execution_count": null,
   "metadata": {},
   "outputs": [],
   "source": [
    "# order parameters will go here\n",
    "\n",
    "# ACCUMULATORS AND MARKET STATE DATA\n",
    "# hold completed trades \n",
    "trade_data = pd.DataFrame( columns = [ 'price' , 'shares'], index=day.index )\n",
    "\n",
    "# init our price and volume variables\n",
    "[last_price, last_size, bid_price, bid_size, ask_price, ask_size, volume] = np.zeros(7)\n",
    "\n",
    "# maybe a couple more\n",
    "[trade_count, quote_count] = [0, 0]\n",
    "\n",
    "# cumulative volume is nice to have too\n",
    "cumulative_volume = 0\n",
    "\n",
    "# main event loop\n",
    "log_msg('starting main loop')\n",
    "for index, row in day.iterrows() :\n",
    "    # get each row: is it a quote or a trade?\n",
    "    if pd.isna(row.trade_px): # it's a quote\n",
    "        bid_price = row.bid_px\n",
    "        bid_size = row.bid_size\n",
    "        ask_price = row.ask_px\n",
    "        ask_size = row.ask_size\n",
    "        quote_count += 1\n",
    "    else: # it's a trade\n",
    "        last_price = row.trade_px\n",
    "        last_size = row.trade_size\n",
    "        trade_count += 1\n",
    "        cumulative_volume += row.trade_size\n",
    "        \n",
    "    # algo code goes here\n",
    "    \n",
    "log_msg('end main loop')"
   ]
  },
  {
   "cell_type": "code",
   "execution_count": null,
   "metadata": {},
   "outputs": [],
   "source": [
    "len(day)"
   ]
  },
  {
   "cell_type": "markdown",
   "metadata": {},
   "source": [
    "## Statistics\n",
    "\n",
    "We'll put various metrics here, depending on what our algo is doing. For now we'll just put some basic order counts."
   ]
  },
  {
   "cell_type": "code",
   "execution_count": null,
   "metadata": {},
   "outputs": [],
   "source": [
    "print(\"total quote messages: {:,}\".format(quote_count))\n",
    "print(\"total trade messages: {:,}\".format(trade_count))\n",
    "print(\"total shares trades: {:,}\".format(cumulative_volume))"
   ]
  },
  {
   "cell_type": "code",
   "execution_count": null,
   "metadata": {},
   "outputs": [],
   "source": [
    "day.trade_size.sum()"
   ]
  },
  {
   "cell_type": "code",
   "execution_count": null,
   "metadata": {},
   "outputs": [],
   "source": [
    "day.tail()"
   ]
  },
  {
   "cell_type": "code",
   "execution_count": null,
   "metadata": {},
   "outputs": [],
   "source": [
    "day[pd.notna(day.trade_px)]['trade_px'].sum()"
   ]
  },
  {
   "cell_type": "code",
   "execution_count": null,
   "metadata": {},
   "outputs": [],
   "source": []
  }
 ],
 "metadata": {
  "kernelspec": {
   "display_name": "Python 3",
   "language": "python",
   "name": "python3"
  },
  "language_info": {
   "codemirror_mode": {
    "name": "ipython",
    "version": 3
   },
   "file_extension": ".py",
   "mimetype": "text/x-python",
   "name": "python",
   "nbconvert_exporter": "python",
   "pygments_lexer": "ipython3",
   "version": "3.7.4"
  }
 },
 "nbformat": 4,
 "nbformat_minor": 4
}
