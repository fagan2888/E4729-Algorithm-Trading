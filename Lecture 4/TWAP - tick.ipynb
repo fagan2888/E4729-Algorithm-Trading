{
 "cells": [
  {
   "cell_type": "markdown",
   "metadata": {},
   "source": [
    "# TWAP implementation\n",
    "_Version 1.0_"
   ]
  },
  {
   "cell_type": "code",
   "execution_count": null,
   "metadata": {},
   "outputs": [],
   "source": [
    "%matplotlib inline\n",
    "\n",
    "import matplotlib\n",
    "import matplotlib.pyplot as plt\n",
    "import pandas as pd\n",
    "\n",
    "# load our helper functios\n",
    "from simtools import *\n",
    "\n",
    "from pandas.plotting import register_matplotlib_converters\n",
    "register_matplotlib_converters()\n",
    "\n",
    "matplotlib.rcParams[ 'figure.figsize' ] = ( 16, 9 )"
   ]
  },
  {
   "cell_type": "markdown",
   "metadata": {},
   "source": [
    "### Load Merged Data\n",
    "\n",
    "We'll assume we have already done some cleaning by using our Tick Data Setup or similar code"
   ]
  },
  {
   "cell_type": "code",
   "execution_count": null,
   "metadata": {},
   "outputs": [],
   "source": [
    "# set up some variables\n",
    "tickfile = '../data/TSLA-TAQ-aug19.zip'\n",
    "test_day = '2019-08-30'"
   ]
  },
  {
   "cell_type": "code",
   "execution_count": null,
   "metadata": {},
   "outputs": [],
   "source": [
    "# load tick data\n",
    "taq = pd.read_pickle(tickfile)"
   ]
  },
  {
   "cell_type": "code",
   "execution_count": null,
   "metadata": {},
   "outputs": [],
   "source": [
    "len(taq)"
   ]
  },
  {
   "cell_type": "code",
   "execution_count": null,
   "metadata": {},
   "outputs": [],
   "source": [
    "taq.tail()"
   ]
  },
  {
   "cell_type": "code",
   "execution_count": null,
   "metadata": {},
   "outputs": [],
   "source": [
    "# filter on date\n",
    "day = taq[test_day]"
   ]
  },
  {
   "cell_type": "code",
   "execution_count": null,
   "metadata": {},
   "outputs": [],
   "source": [
    "day.head()"
   ]
  },
  {
   "cell_type": "markdown",
   "metadata": {},
   "source": [
    "## Main Processing Loop"
   ]
  },
  {
   "cell_type": "code",
   "execution_count": null,
   "metadata": {},
   "outputs": [],
   "source": [
    "# order parameters will go here\n",
    "order_side = 'b'\n",
    "quantity = 1000000\n",
    "minutes_to_trade = 390\n",
    "slice_size = quantity / minutes_to_trade\n",
    "\n",
    "# ACCUMULATORS AND MARKET STATE DATA\n",
    "# initialize some counters\n",
    "quantity_remaining = quantity\n",
    "current_bar = 0\n",
    "\n",
    "# hold completed trades \n",
    "trade_data = pd.DataFrame( columns = [ 'price' , 'shares' ], index=day.index )\n",
    "\n",
    "# init our price and volume variables\n",
    "[last_price, last_size, bid_price, bid_size, ask_price, ask_size, volume] = np.zeros(7)\n",
    "\n",
    "# maybe a couple more\n",
    "[trade_count, quote_count] = [0, 0]\n",
    "\n",
    "# cumulative volume is nice to have too\n",
    "cumulative_volume = 0\n",
    "\n",
    "# main event loop\n",
    "log_msg('starting main loop')\n",
    "for index, row in day.iterrows() :\n",
    "    # get each row: is it a quote or a trade?\n",
    "    if pd.isna(row.trade_px): # it's a quote\n",
    "        bid_price = row.bid_px\n",
    "        bid_size = row.bid_size\n",
    "        ask_price = row.ask_px\n",
    "        ask_size = row.ask_size\n",
    "        quote_count += 1\n",
    "    else: # it's a trade\n",
    "        last_price = row.trade_px\n",
    "        last_size = row.trade_size\n",
    "        trade_count += 1\n",
    "        cumulative_volume += row.trade_size\n",
    "    \n",
    "    # algo code goes here\n",
    "    # TODO: FIX ALL THIS\n",
    "    # figure out which minute we are in after the open\n",
    "    time_from_open = ( index - pd.Timedelta( hours = 9, minutes = 30 ) )\n",
    "    minutes_from_open = ( time_from_open.hour * 60 ) + time_from_open.minute\n",
    "    \n",
    "    # are we in a new minute?\n",
    "    if ( minutes_from_open > current_bar ):\n",
    "        # increment our bar counter\n",
    "        current_bar = minutes_from_open\n",
    "        \n",
    "        # we should do a trade\n",
    "        if order_side == 'b':\n",
    "            # buy on the offer\n",
    "            new_trade_price = ask_price\n",
    "            new_trade_size = slice_size\n",
    "            \n",
    "            # Accumulate the trade per bin\n",
    "            trade_data.loc[index] = [new_trade_price, new_trade_size]\n",
    "            \n",
    "            #print(\"buy: {0:f} shares at {1:.2f}\".format(new_trade_size, new_trade_price))\n",
    "            \n",
    "        else: # it's a sell\n",
    "            # sell on the bid\n",
    "            new_trade_price = bid_price\n",
    "            new_trade_size = slice_size\n",
    "    \n",
    "            # Accumulate the trade per bin\n",
    "            trade_data.loc[index] = [new_trade_price, new_trade_size]\n",
    "            \n",
    "            #print(\"sell: {0:f} shares at {1:.2f}\".format(new_trade_size, new_trade_price))\n",
    "    \n",
    "        # decrement the remaining qty, and bail out if it's zero\n",
    "        quantity_remaining -= slice_size\n",
    "    \n",
    "    # debug\n",
    "    #print( str(volume) + \" \" + str(new_trade) + \" \" + str(quantity_remaining) )\n",
    "    \n",
    "    if ( quantity_remaining <= 0 ):\n",
    "        print(quantity_remaining)\n",
    "        break\n",
    "    \n",
    "log_msg('end main loop')"
   ]
  },
  {
   "cell_type": "code",
   "execution_count": null,
   "metadata": {},
   "outputs": [],
   "source": [
    "print(\"total quote messages: {:,}\".format(quote_count))\n",
    "print(\"total trade messages: {:,}\".format(trade_count))\n",
    "print(\"total shares trades: {:,}\".format(cumulative_volume))"
   ]
  },
  {
   "cell_type": "markdown",
   "metadata": {},
   "source": [
    "### Summary Stats of TWAP Order"
   ]
  },
  {
   "cell_type": "code",
   "execution_count": null,
   "metadata": {},
   "outputs": [],
   "source": [
    "# average trade price\n",
    "pavg = ( trade_data[ 'price' ] * trade_data[ 'shares' ] ).sum() /  trade_data[ 'shares' ].sum()\n",
    "\n",
    "#slippage =  ( ( vwap - pavg ) / vwap ) * 10000\n",
    "\n",
    "# calculate VWAP\n",
    "#vwap = ( day['close'] * day['volume'] ).sum() / day['volume'].sum()\n",
    "\n",
    "#slippage =  ( ( vwap - pavg ) / vwap ) * 10000\n",
    "\n",
    "print( \"Avg Price: {:.4f}\".format(pavg) )\n",
    "#print( \"VWAP: {:.4f}\".format(vwap) )\n",
    "#print( \"Performance vs Day VWAP in bps: {:.4f}\".format(slippage) )"
   ]
  },
  {
   "cell_type": "code",
   "execution_count": null,
   "metadata": {},
   "outputs": [],
   "source": [
    "# let's see what we got\n",
    "fig, ax = plt.subplots(figsize=(16,9))\n",
    "ax.plot(day.trade_px, 'b-')\n",
    "ax.plot(trade_data.price, 'r-')\n",
    "plt.show()"
   ]
  },
  {
   "cell_type": "code",
   "execution_count": null,
   "metadata": {},
   "outputs": [],
   "source": [
    "trade_data[pd.notna(trade_data.price)]"
   ]
  },
  {
   "cell_type": "code",
   "execution_count": null,
   "metadata": {},
   "outputs": [],
   "source": []
  }
 ],
 "metadata": {
  "kernelspec": {
   "display_name": "Python 3",
   "language": "python",
   "name": "python3"
  },
  "language_info": {
   "codemirror_mode": {
    "name": "ipython",
    "version": 3
   },
   "file_extension": ".py",
   "mimetype": "text/x-python",
   "name": "python",
   "nbconvert_exporter": "python",
   "pygments_lexer": "ipython3",
   "version": "3.7.4"
  }
 },
 "nbformat": 4,
 "nbformat_minor": 4
}
