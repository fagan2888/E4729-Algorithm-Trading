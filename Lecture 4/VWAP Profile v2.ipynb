{
 "cells": [
  {
   "cell_type": "markdown",
   "metadata": {},
   "source": [
    "# VWAP Profile Part II"
   ]
  },
  {
   "cell_type": "code",
   "execution_count": null,
   "metadata": {},
   "outputs": [],
   "source": [
    "%matplotlib inline\n",
    "\n",
    "import matplotlib\n",
    "import matplotlib.pyplot as plt\n",
    "import matplotlib.dates as md\n",
    "import numpy as np\n",
    "import pandas as pd\n",
    "from sklearn import linear_model as linear_model\n",
    "\n",
    "from getstock import *\n",
    "\n",
    "matplotlib.rcParams[ 'figure.figsize' ] = ( 14, 6 )\n",
    "\n",
    "# data source: alphavantage.co|"
   ]
  },
  {
   "cell_type": "code",
   "execution_count": null,
   "metadata": {},
   "outputs": [],
   "source": [
    "ticker = \"AAPL\"\n",
    "raw_bar_data = getMinuteStockPrices(ticker)"
   ]
  },
  {
   "cell_type": "code",
   "execution_count": null,
   "metadata": {},
   "outputs": [],
   "source": [
    "# add a minute bin\n",
    "# US start of date, calc in minutes\n",
    "start_of_day = (9 * 60) + 30\n",
    "# get the time for each bin in minutes and subtract 9:30\n",
    "raw_bar_data[ 'minute_bars' ] = (raw_bar_data.index.hour * 60) + raw_bar_data.index.minute - start_of_day\n",
    "\n",
    "# now trim anything beyond bin 389\n",
    "raw_bar_data = raw_bar_data[ raw_bar_data.minute_bars <= 389 ]"
   ]
  },
  {
   "cell_type": "code",
   "execution_count": null,
   "metadata": {},
   "outputs": [],
   "source": [
    "# calculate the cumulative pct by day\n",
    "totl_volume = raw_bar_data.groupby( [ raw_bar_data.index.date ] ).tail( 1 )[ 'volume' ] \n",
    "raw_bar_data[ 'accum_volume' ] = raw_bar_data.groupby( [ raw_bar_data.index.date ] ).cumsum()[ 'volume' ] \n",
    "raw_bar_data[ 'accum_pct' ] = raw_bar_data.groupby( [ raw_bar_data.index.date ] )[ 'accum_volume' ].transform( lambda x: x / x.iloc[ -1 ] )"
   ]
  },
  {
   "cell_type": "markdown",
   "metadata": {},
   "source": [
    "## First by regression "
   ]
  },
  {
   "cell_type": "code",
   "execution_count": null,
   "metadata": {},
   "outputs": [],
   "source": [
    "# this code used to do some more processing...\n",
    "bar_data = raw_bar_data.copy()"
   ]
  },
  {
   "cell_type": "code",
   "execution_count": null,
   "metadata": {},
   "outputs": [],
   "source": [
    "# arrange our data\n",
    "minute_bars = bar_data[ 'minute_bars' ]\n",
    "X = pd.DataFrame( { 'bin': minute_bars, \n",
    "                    'bin2' : minute_bars**2, \n",
    "                    'bin3' : minute_bars**3, \n",
    "                    'bin4' : minute_bars**4, \n",
    "                    'bin5' : minute_bars**5 } )\n",
    "y = bar_data[ 'accum_pct' ]"
   ]
  },
  {
   "cell_type": "code",
   "execution_count": null,
   "metadata": {},
   "outputs": [],
   "source": [
    "# now do the regression with no intercept\n",
    "lm = linear_model.LinearRegression( fit_intercept = False )\n",
    "model = lm.fit( X, y )\n",
    "predictions = lm.predict( X )\n",
    "# Rsquared\n",
    "lm.score( X, y )"
   ]
  },
  {
   "cell_type": "code",
   "execution_count": null,
   "metadata": {},
   "outputs": [],
   "source": [
    "# coefficients\n",
    "lm.coef_"
   ]
  },
  {
   "cell_type": "code",
   "execution_count": null,
   "metadata": {},
   "outputs": [],
   "source": [
    "# use coefs to make our target series\n",
    "def vwap_target( bar_num, coefs ):\n",
    "    return ( coefs[ 0 ] * bar_num + \n",
    "             coefs[ 1 ] * bar_num**2 + \n",
    "             coefs[ 2 ] * bar_num**3 +\n",
    "             coefs[ 3 ] * bar_num**4 +\n",
    "             coefs[ 4 ] * bar_num**5 )"
   ]
  },
  {
   "cell_type": "code",
   "execution_count": null,
   "metadata": {},
   "outputs": [],
   "source": [
    "bins = raw_bar_data['minute_bars'].unique()"
   ]
  },
  {
   "cell_type": "code",
   "execution_count": null,
   "metadata": {},
   "outputs": [],
   "source": [
    "# let's try something different and see what happens...\n",
    "bins = np.arange(0, 390)"
   ]
  },
  {
   "cell_type": "code",
   "execution_count": null,
   "metadata": {},
   "outputs": [],
   "source": [
    "target_pct_regr = vwap_target( bins, lm.coef_ )"
   ]
  },
  {
   "cell_type": "code",
   "execution_count": null,
   "metadata": {},
   "outputs": [],
   "source": [
    "plt.plot(target_pct_regr)"
   ]
  },
  {
   "cell_type": "markdown",
   "metadata": {},
   "source": [
    "## Now by binwise averages"
   ]
  },
  {
   "cell_type": "code",
   "execution_count": null,
   "metadata": {},
   "outputs": [],
   "source": [
    "# now calculate binwise averages\n",
    "target_pct_mean = bar_data.groupby( 'minute_bars' ).mean()[ 'accum_pct' ]"
   ]
  },
  {
   "cell_type": "markdown",
   "metadata": {},
   "source": [
    "## How do they look?"
   ]
  },
  {
   "cell_type": "code",
   "execution_count": null,
   "metadata": {},
   "outputs": [],
   "source": [
    "regr_plot = plt.plot( target_pct_regr, label = 'Linear Regression Fit' )\n",
    "mean_plot = plt.plot( target_pct_mean, label = 'Binwise mean' )\n",
    "plt.title( 'Comparing two methods of VWAP Profile Fitting' )\n",
    "plt.legend()"
   ]
  },
  {
   "cell_type": "markdown",
   "metadata": {},
   "source": [
    "## Let's compare with a single day"
   ]
  },
  {
   "cell_type": "code",
   "execution_count": null,
   "metadata": {},
   "outputs": [],
   "source": [
    "one_day = bar_data[ '02-05-2020' ][ 'accum_pct' ].reset_index( drop = True)\n",
    "\n",
    "regr_plot = plt.plot( target_pct_regr, label = 'Linear Regression Fit' )\n",
    "mean_plot = plt.plot( target_pct_mean, label = 'Binwise mean' )\n",
    "one_day_plot = plt.plot( one_day, label = '02-05-2020' )\n",
    "\n",
    "plt.title( 'Comparing two methods of VWAP Profile Fitting and a Single Day' )\n",
    "plt.legend()"
   ]
  },
  {
   "cell_type": "markdown",
   "metadata": {},
   "source": [
    "## Maybe a different day?"
   ]
  },
  {
   "cell_type": "code",
   "execution_count": null,
   "metadata": {},
   "outputs": [],
   "source": [
    "another_day = raw_bar_data[ '02-06-2020' ][ 'accum_pct' ].reset_index( drop = True)\n",
    "\n",
    "regr_plot = plt.plot( target_pct_regr, label = 'Linear Regression Fit' )\n",
    "mean_plot = plt.plot( target_pct_mean, label = 'Binwise mean' )\n",
    "another_day_plot = plt.plot( another_day, label = '02-06-2020' )\n",
    "\n",
    "plt.title( 'Comparing two methods of VWAP Profile Fitting' )\n",
    "plt.legend()"
   ]
  },
  {
   "cell_type": "code",
   "execution_count": null,
   "metadata": {},
   "outputs": [],
   "source": [
    "fig, (ax1, ax2) = plt.subplots(2, 1)\n",
    "raw_bar_data[ '02-06-2020' ]['close'].plot(ax=ax1)\n",
    "raw_bar_data[ '02-06-2020' ]['volume'].plot(ax=ax2)\n",
    "plt.show()"
   ]
  },
  {
   "cell_type": "code",
   "execution_count": null,
   "metadata": {},
   "outputs": [],
   "source": []
  }
 ],
 "metadata": {
  "kernelspec": {
   "display_name": "Python 3",
   "language": "python",
   "name": "python3"
  },
  "language_info": {
   "codemirror_mode": {
    "name": "ipython",
    "version": 3
   },
   "file_extension": ".py",
   "mimetype": "text/x-python",
   "name": "python",
   "nbconvert_exporter": "python",
   "pygments_lexer": "ipython3",
   "version": "3.7.4"
  }
 },
 "nbformat": 4,
 "nbformat_minor": 4
}
