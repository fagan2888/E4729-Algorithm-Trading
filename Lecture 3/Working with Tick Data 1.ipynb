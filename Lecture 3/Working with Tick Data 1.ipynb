{
 "cells": [
  {
   "cell_type": "markdown",
   "metadata": {},
   "source": [
    "# Working with Tick Data 1"
   ]
  },
  {
   "cell_type": "code",
   "execution_count": 1,
   "metadata": {},
   "outputs": [],
   "source": [
    "%matplotlib inline\n",
    "\n",
    "import datetime\n",
    "import matplotlib\n",
    "import matplotlib.pyplot as plt\n",
    "import numpy as np\n",
    "import pandas as pd\n",
    "import time\n",
    "\n",
    "matplotlib.rcParams[ 'figure.figsize' ] = ( 14, 6 )\n",
    "\n",
    "def show_time( label_string ):\n",
    "    ts = time.time()\n",
    "    st = datetime.datetime.fromtimestamp( ts ).strftime( '%Y-%m-%d %H:%M:%S:%f' )\n",
    "    print( label_string + ' : ' + st )"
   ]
  },
  {
   "cell_type": "markdown",
   "metadata": {},
   "source": [
    "## Trade Data"
   ]
  },
  {
   "cell_type": "code",
   "execution_count": 14,
   "metadata": {},
   "outputs": [
    {
     "name": "stdout",
     "output_type": "stream",
     "text": [
      "load trades : 2020-02-02 20:37:05:434040\n",
      "load complete : 2020-02-02 20:37:06:827327\n"
     ]
    }
   ],
   "source": [
    "show_time( 'load trades' )\n",
    "trades = pd.read_csv('../data/TSLA-trades-aug19v2.zip', infer_datetime_format=True)\n",
    "show_time( 'load complete' )"
   ]
  },
  {
   "cell_type": "code",
   "execution_count": 15,
   "metadata": {},
   "outputs": [
    {
     "name": "stdout",
     "output_type": "stream",
     "text": [
      "indexing trades : 2020-02-02 20:37:07:805228\n",
      "index trades done : 2020-02-02 20:37:14:720827\n"
     ]
    }
   ],
   "source": [
    "show_time( 'indexing trades' )\n",
    "format = '%Y%m%d%H:%M:%S.%f'\n",
    "\n",
    "# fix padding on time\n",
    "times = trades['TIME_M'].apply(lambda x: x.zfill(18))\n",
    "timestamps = trades['DATE'].astype(str) + times\n",
    "times = pd.to_datetime( timestamps, format = format )\n",
    "trades.index = times\n",
    "trades = trades.drop(columns=['DATE', 'TIME_M'])\n",
    "show_time( \"index trades done\" )"
   ]
  },
  {
   "cell_type": "code",
   "execution_count": 16,
   "metadata": {},
   "outputs": [
    {
     "data": {
      "text/plain": [
       "1360479"
      ]
     },
     "execution_count": 16,
     "metadata": {},
     "output_type": "execute_result"
    }
   ],
   "source": [
    "len(trades)"
   ]
  },
  {
   "cell_type": "code",
   "execution_count": 17,
   "metadata": {},
   "outputs": [
    {
     "data": {
      "text/html": [
       "<div>\n",
       "<style scoped>\n",
       "    .dataframe tbody tr th:only-of-type {\n",
       "        vertical-align: middle;\n",
       "    }\n",
       "\n",
       "    .dataframe tbody tr th {\n",
       "        vertical-align: top;\n",
       "    }\n",
       "\n",
       "    .dataframe thead th {\n",
       "        text-align: right;\n",
       "    }\n",
       "</style>\n",
       "<table border=\"1\" class=\"dataframe\">\n",
       "  <thead>\n",
       "    <tr style=\"text-align: right;\">\n",
       "      <th></th>\n",
       "      <th>SYM_ROOT</th>\n",
       "      <th>SYM_SUFFIX</th>\n",
       "      <th>SIZE</th>\n",
       "      <th>PRICE</th>\n",
       "    </tr>\n",
       "  </thead>\n",
       "  <tbody>\n",
       "    <tr>\n",
       "      <th>2019-08-01 09:30:00.393481242</th>\n",
       "      <td>TSLA</td>\n",
       "      <td>NaN</td>\n",
       "      <td>10</td>\n",
       "      <td>242.045</td>\n",
       "    </tr>\n",
       "    <tr>\n",
       "      <th>2019-08-01 09:30:00.694857858</th>\n",
       "      <td>TSLA</td>\n",
       "      <td>NaN</td>\n",
       "      <td>5</td>\n",
       "      <td>242.030</td>\n",
       "    </tr>\n",
       "    <tr>\n",
       "      <th>2019-08-01 09:30:00.694865831</th>\n",
       "      <td>TSLA</td>\n",
       "      <td>NaN</td>\n",
       "      <td>4</td>\n",
       "      <td>242.010</td>\n",
       "    </tr>\n",
       "    <tr>\n",
       "      <th>2019-08-01 09:30:00.963704893</th>\n",
       "      <td>TSLA</td>\n",
       "      <td>NaN</td>\n",
       "      <td>69895</td>\n",
       "      <td>242.650</td>\n",
       "    </tr>\n",
       "    <tr>\n",
       "      <th>2019-08-01 09:30:00.963800979</th>\n",
       "      <td>TSLA</td>\n",
       "      <td>NaN</td>\n",
       "      <td>69895</td>\n",
       "      <td>242.650</td>\n",
       "    </tr>\n",
       "  </tbody>\n",
       "</table>\n",
       "</div>"
      ],
      "text/plain": [
       "                              SYM_ROOT  SYM_SUFFIX   SIZE    PRICE\n",
       "2019-08-01 09:30:00.393481242     TSLA         NaN     10  242.045\n",
       "2019-08-01 09:30:00.694857858     TSLA         NaN      5  242.030\n",
       "2019-08-01 09:30:00.694865831     TSLA         NaN      4  242.010\n",
       "2019-08-01 09:30:00.963704893     TSLA         NaN  69895  242.650\n",
       "2019-08-01 09:30:00.963800979     TSLA         NaN  69895  242.650"
      ]
     },
     "execution_count": 17,
     "metadata": {},
     "output_type": "execute_result"
    }
   ],
   "source": [
    "trades.head()"
   ]
  },
  {
   "cell_type": "code",
   "execution_count": 18,
   "metadata": {},
   "outputs": [
    {
     "data": {
      "text/plain": [
       "91195"
      ]
     },
     "execution_count": 18,
     "metadata": {},
     "output_type": "execute_result"
    }
   ],
   "source": [
    "len(trades['2019-08-01'])"
   ]
  },
  {
   "cell_type": "markdown",
   "metadata": {},
   "source": [
    "## Quote Data"
   ]
  },
  {
   "cell_type": "code",
   "execution_count": 20,
   "metadata": {},
   "outputs": [
    {
     "name": "stdout",
     "output_type": "stream",
     "text": [
      "load quotes : 2020-02-02 20:37:56:458735\n",
      "load complete : 2020-02-02 20:38:06:957314\n"
     ]
    }
   ],
   "source": [
    "# now let's get quotes\n",
    "show_time( 'load quotes' )\n",
    "quotes = pd.read_csv('../data/TSLA-quotes-aug19v2.zip')\n",
    "show_time( 'load complete' )"
   ]
  },
  {
   "cell_type": "code",
   "execution_count": 21,
   "metadata": {},
   "outputs": [
    {
     "data": {
      "text/plain": [
       "8952989"
      ]
     },
     "execution_count": 21,
     "metadata": {},
     "output_type": "execute_result"
    }
   ],
   "source": [
    "len(quotes)"
   ]
  },
  {
   "cell_type": "code",
   "execution_count": 22,
   "metadata": {},
   "outputs": [
    {
     "data": {
      "text/html": [
       "<div>\n",
       "<style scoped>\n",
       "    .dataframe tbody tr th:only-of-type {\n",
       "        vertical-align: middle;\n",
       "    }\n",
       "\n",
       "    .dataframe tbody tr th {\n",
       "        vertical-align: top;\n",
       "    }\n",
       "\n",
       "    .dataframe thead th {\n",
       "        text-align: right;\n",
       "    }\n",
       "</style>\n",
       "<table border=\"1\" class=\"dataframe\">\n",
       "  <thead>\n",
       "    <tr style=\"text-align: right;\">\n",
       "      <th></th>\n",
       "      <th>DATE</th>\n",
       "      <th>TIME_M</th>\n",
       "      <th>EX</th>\n",
       "      <th>BID</th>\n",
       "      <th>BIDSIZ</th>\n",
       "      <th>ASK</th>\n",
       "      <th>ASKSIZ</th>\n",
       "      <th>SYM_ROOT</th>\n",
       "      <th>SYM_SUFFIX</th>\n",
       "    </tr>\n",
       "  </thead>\n",
       "  <tbody>\n",
       "    <tr>\n",
       "      <th>0</th>\n",
       "      <td>20190801</td>\n",
       "      <td>9:30:00.221856542</td>\n",
       "      <td>A</td>\n",
       "      <td>241.34</td>\n",
       "      <td>1</td>\n",
       "      <td>243.33</td>\n",
       "      <td>1</td>\n",
       "      <td>TSLA</td>\n",
       "      <td>NaN</td>\n",
       "    </tr>\n",
       "    <tr>\n",
       "      <th>1</th>\n",
       "      <td>20190801</td>\n",
       "      <td>9:30:00.415319200</td>\n",
       "      <td>C</td>\n",
       "      <td>240.88</td>\n",
       "      <td>1</td>\n",
       "      <td>243.78</td>\n",
       "      <td>1</td>\n",
       "      <td>TSLA</td>\n",
       "      <td>NaN</td>\n",
       "    </tr>\n",
       "    <tr>\n",
       "      <th>2</th>\n",
       "      <td>20190801</td>\n",
       "      <td>9:30:00.415596052</td>\n",
       "      <td>N</td>\n",
       "      <td>241.34</td>\n",
       "      <td>1</td>\n",
       "      <td>243.33</td>\n",
       "      <td>1</td>\n",
       "      <td>TSLA</td>\n",
       "      <td>NaN</td>\n",
       "    </tr>\n",
       "    <tr>\n",
       "      <th>3</th>\n",
       "      <td>20190801</td>\n",
       "      <td>9:30:00.833394292</td>\n",
       "      <td>Y</td>\n",
       "      <td>241.46</td>\n",
       "      <td>1</td>\n",
       "      <td>243.47</td>\n",
       "      <td>3</td>\n",
       "      <td>TSLA</td>\n",
       "      <td>NaN</td>\n",
       "    </tr>\n",
       "    <tr>\n",
       "      <th>4</th>\n",
       "      <td>20190801</td>\n",
       "      <td>9:30:00.963855830</td>\n",
       "      <td>B</td>\n",
       "      <td>240.55</td>\n",
       "      <td>3</td>\n",
       "      <td>244.37</td>\n",
       "      <td>3</td>\n",
       "      <td>TSLA</td>\n",
       "      <td>NaN</td>\n",
       "    </tr>\n",
       "  </tbody>\n",
       "</table>\n",
       "</div>"
      ],
      "text/plain": [
       "       DATE             TIME_M EX     BID  BIDSIZ     ASK  ASKSIZ SYM_ROOT  \\\n",
       "0  20190801  9:30:00.221856542  A  241.34       1  243.33       1     TSLA   \n",
       "1  20190801  9:30:00.415319200  C  240.88       1  243.78       1     TSLA   \n",
       "2  20190801  9:30:00.415596052  N  241.34       1  243.33       1     TSLA   \n",
       "3  20190801  9:30:00.833394292  Y  241.46       1  243.47       3     TSLA   \n",
       "4  20190801  9:30:00.963855830  B  240.55       3  244.37       3     TSLA   \n",
       "\n",
       "   SYM_SUFFIX  \n",
       "0         NaN  \n",
       "1         NaN  \n",
       "2         NaN  \n",
       "3         NaN  \n",
       "4         NaN  "
      ]
     },
     "execution_count": 22,
     "metadata": {},
     "output_type": "execute_result"
    }
   ],
   "source": [
    "quotes.head()"
   ]
  },
  {
   "cell_type": "code",
   "execution_count": 23,
   "metadata": {},
   "outputs": [
    {
     "name": "stdout",
     "output_type": "stream",
     "text": [
      "indexing quotes : 2020-02-02 20:38:06:998206\n",
      "index quotes done : 2020-02-02 20:38:49:054053\n"
     ]
    }
   ],
   "source": [
    "show_time( 'indexing quotes' )\n",
    "format = '%Y%m%d%H:%M:%S.%f'\n",
    "\n",
    "# fix padding on time\n",
    "times = quotes['TIME_M'].apply(lambda x: x.zfill(18))\n",
    "timestamps = quotes['DATE'].astype(str) + times\n",
    "times = pd.to_datetime( timestamps, format = format )\n",
    "quotes.index = times\n",
    "quotes = quotes.drop(columns=['DATE', 'TIME_M'])\n",
    "show_time( \"index quotes done\" )"
   ]
  },
  {
   "cell_type": "code",
   "execution_count": 27,
   "metadata": {},
   "outputs": [
    {
     "data": {
      "text/html": [
       "<div>\n",
       "<style scoped>\n",
       "    .dataframe tbody tr th:only-of-type {\n",
       "        vertical-align: middle;\n",
       "    }\n",
       "\n",
       "    .dataframe tbody tr th {\n",
       "        vertical-align: top;\n",
       "    }\n",
       "\n",
       "    .dataframe thead th {\n",
       "        text-align: right;\n",
       "    }\n",
       "</style>\n",
       "<table border=\"1\" class=\"dataframe\">\n",
       "  <thead>\n",
       "    <tr style=\"text-align: right;\">\n",
       "      <th></th>\n",
       "      <th>EX</th>\n",
       "      <th>BID</th>\n",
       "      <th>BIDSIZ</th>\n",
       "      <th>ASK</th>\n",
       "      <th>ASKSIZ</th>\n",
       "      <th>SYM_ROOT</th>\n",
       "      <th>SYM_SUFFIX</th>\n",
       "    </tr>\n",
       "  </thead>\n",
       "  <tbody>\n",
       "    <tr>\n",
       "      <th>2019-08-01 09:30:00.221856542</th>\n",
       "      <td>A</td>\n",
       "      <td>241.34</td>\n",
       "      <td>1</td>\n",
       "      <td>243.33</td>\n",
       "      <td>1</td>\n",
       "      <td>TSLA</td>\n",
       "      <td>NaN</td>\n",
       "    </tr>\n",
       "    <tr>\n",
       "      <th>2019-08-01 09:30:00.415319200</th>\n",
       "      <td>C</td>\n",
       "      <td>240.88</td>\n",
       "      <td>1</td>\n",
       "      <td>243.78</td>\n",
       "      <td>1</td>\n",
       "      <td>TSLA</td>\n",
       "      <td>NaN</td>\n",
       "    </tr>\n",
       "    <tr>\n",
       "      <th>2019-08-01 09:30:00.415596052</th>\n",
       "      <td>N</td>\n",
       "      <td>241.34</td>\n",
       "      <td>1</td>\n",
       "      <td>243.33</td>\n",
       "      <td>1</td>\n",
       "      <td>TSLA</td>\n",
       "      <td>NaN</td>\n",
       "    </tr>\n",
       "    <tr>\n",
       "      <th>2019-08-01 09:30:00.833394292</th>\n",
       "      <td>Y</td>\n",
       "      <td>241.46</td>\n",
       "      <td>1</td>\n",
       "      <td>243.47</td>\n",
       "      <td>3</td>\n",
       "      <td>TSLA</td>\n",
       "      <td>NaN</td>\n",
       "    </tr>\n",
       "    <tr>\n",
       "      <th>2019-08-01 09:30:00.963855830</th>\n",
       "      <td>B</td>\n",
       "      <td>240.55</td>\n",
       "      <td>3</td>\n",
       "      <td>244.37</td>\n",
       "      <td>3</td>\n",
       "      <td>TSLA</td>\n",
       "      <td>NaN</td>\n",
       "    </tr>\n",
       "  </tbody>\n",
       "</table>\n",
       "</div>"
      ],
      "text/plain": [
       "                              EX     BID  BIDSIZ     ASK  ASKSIZ SYM_ROOT  \\\n",
       "2019-08-01 09:30:00.221856542  A  241.34       1  243.33       1     TSLA   \n",
       "2019-08-01 09:30:00.415319200  C  240.88       1  243.78       1     TSLA   \n",
       "2019-08-01 09:30:00.415596052  N  241.34       1  243.33       1     TSLA   \n",
       "2019-08-01 09:30:00.833394292  Y  241.46       1  243.47       3     TSLA   \n",
       "2019-08-01 09:30:00.963855830  B  240.55       3  244.37       3     TSLA   \n",
       "\n",
       "                               SYM_SUFFIX  \n",
       "2019-08-01 09:30:00.221856542         NaN  \n",
       "2019-08-01 09:30:00.415319200         NaN  \n",
       "2019-08-01 09:30:00.415596052         NaN  \n",
       "2019-08-01 09:30:00.833394292         NaN  \n",
       "2019-08-01 09:30:00.963855830         NaN  "
      ]
     },
     "execution_count": 27,
     "metadata": {},
     "output_type": "execute_result"
    }
   ],
   "source": [
    "quotes.head()"
   ]
  },
  {
   "cell_type": "code",
   "execution_count": 28,
   "metadata": {},
   "outputs": [
    {
     "data": {
      "text/plain": [
       "3084"
      ]
     },
     "execution_count": 28,
     "metadata": {},
     "output_type": "execute_result"
    }
   ],
   "source": [
    "len(quotes['2019-08-01 09:30:00':'2019-08-01 09:32:00'])"
   ]
  },
  {
   "cell_type": "markdown",
   "metadata": {},
   "source": [
    "## Merging Tick and Quote data\n",
    "For simulation we will need to merge this data into one continuous stream..."
   ]
  },
  {
   "cell_type": "code",
   "execution_count": 29,
   "metadata": {},
   "outputs": [
    {
     "name": "stdout",
     "output_type": "stream",
     "text": [
      "start merge : 2020-02-02 20:40:19:896718\n",
      "end merge : 2020-02-02 20:40:23:148543\n"
     ]
    }
   ],
   "source": [
    "# now merge quote and tick data\n",
    "show_time( 'start merge' )\n",
    "taq = quotes.merge( trades, how = 'outer', on = 'SYM_ROOT', left_index = True, right_index = True )\n",
    "show_time( 'end merge' )"
   ]
  },
  {
   "cell_type": "code",
   "execution_count": 30,
   "metadata": {},
   "outputs": [
    {
     "data": {
      "text/html": [
       "<div>\n",
       "<style scoped>\n",
       "    .dataframe tbody tr th:only-of-type {\n",
       "        vertical-align: middle;\n",
       "    }\n",
       "\n",
       "    .dataframe tbody tr th {\n",
       "        vertical-align: top;\n",
       "    }\n",
       "\n",
       "    .dataframe thead th {\n",
       "        text-align: right;\n",
       "    }\n",
       "</style>\n",
       "<table border=\"1\" class=\"dataframe\">\n",
       "  <thead>\n",
       "    <tr style=\"text-align: right;\">\n",
       "      <th></th>\n",
       "      <th>EX</th>\n",
       "      <th>BID</th>\n",
       "      <th>BIDSIZ</th>\n",
       "      <th>ASK</th>\n",
       "      <th>ASKSIZ</th>\n",
       "      <th>SYM_ROOT</th>\n",
       "      <th>SYM_SUFFIX_x</th>\n",
       "      <th>SYM_SUFFIX_y</th>\n",
       "      <th>SIZE</th>\n",
       "      <th>PRICE</th>\n",
       "    </tr>\n",
       "  </thead>\n",
       "  <tbody>\n",
       "    <tr>\n",
       "      <th>2019-08-01 09:30:00.221856542</th>\n",
       "      <td>A</td>\n",
       "      <td>241.34</td>\n",
       "      <td>1.0</td>\n",
       "      <td>243.33</td>\n",
       "      <td>1.0</td>\n",
       "      <td>TSLA</td>\n",
       "      <td>NaN</td>\n",
       "      <td>NaN</td>\n",
       "      <td>NaN</td>\n",
       "      <td>NaN</td>\n",
       "    </tr>\n",
       "    <tr>\n",
       "      <th>2019-08-01 09:30:00.393481242</th>\n",
       "      <td>NaN</td>\n",
       "      <td>NaN</td>\n",
       "      <td>NaN</td>\n",
       "      <td>NaN</td>\n",
       "      <td>NaN</td>\n",
       "      <td>TSLA</td>\n",
       "      <td>NaN</td>\n",
       "      <td>NaN</td>\n",
       "      <td>10.0</td>\n",
       "      <td>242.045</td>\n",
       "    </tr>\n",
       "    <tr>\n",
       "      <th>2019-08-01 09:30:00.415319200</th>\n",
       "      <td>C</td>\n",
       "      <td>240.88</td>\n",
       "      <td>1.0</td>\n",
       "      <td>243.78</td>\n",
       "      <td>1.0</td>\n",
       "      <td>TSLA</td>\n",
       "      <td>NaN</td>\n",
       "      <td>NaN</td>\n",
       "      <td>NaN</td>\n",
       "      <td>NaN</td>\n",
       "    </tr>\n",
       "    <tr>\n",
       "      <th>2019-08-01 09:30:00.415596052</th>\n",
       "      <td>N</td>\n",
       "      <td>241.34</td>\n",
       "      <td>1.0</td>\n",
       "      <td>243.33</td>\n",
       "      <td>1.0</td>\n",
       "      <td>TSLA</td>\n",
       "      <td>NaN</td>\n",
       "      <td>NaN</td>\n",
       "      <td>NaN</td>\n",
       "      <td>NaN</td>\n",
       "    </tr>\n",
       "    <tr>\n",
       "      <th>2019-08-01 09:30:00.694857858</th>\n",
       "      <td>NaN</td>\n",
       "      <td>NaN</td>\n",
       "      <td>NaN</td>\n",
       "      <td>NaN</td>\n",
       "      <td>NaN</td>\n",
       "      <td>TSLA</td>\n",
       "      <td>NaN</td>\n",
       "      <td>NaN</td>\n",
       "      <td>5.0</td>\n",
       "      <td>242.030</td>\n",
       "    </tr>\n",
       "  </tbody>\n",
       "</table>\n",
       "</div>"
      ],
      "text/plain": [
       "                                EX     BID  BIDSIZ     ASK  ASKSIZ SYM_ROOT  \\\n",
       "2019-08-01 09:30:00.221856542    A  241.34     1.0  243.33     1.0     TSLA   \n",
       "2019-08-01 09:30:00.393481242  NaN     NaN     NaN     NaN     NaN     TSLA   \n",
       "2019-08-01 09:30:00.415319200    C  240.88     1.0  243.78     1.0     TSLA   \n",
       "2019-08-01 09:30:00.415596052    N  241.34     1.0  243.33     1.0     TSLA   \n",
       "2019-08-01 09:30:00.694857858  NaN     NaN     NaN     NaN     NaN     TSLA   \n",
       "\n",
       "                               SYM_SUFFIX_x  SYM_SUFFIX_y  SIZE    PRICE  \n",
       "2019-08-01 09:30:00.221856542           NaN           NaN   NaN      NaN  \n",
       "2019-08-01 09:30:00.393481242           NaN           NaN  10.0  242.045  \n",
       "2019-08-01 09:30:00.415319200           NaN           NaN   NaN      NaN  \n",
       "2019-08-01 09:30:00.415596052           NaN           NaN   NaN      NaN  \n",
       "2019-08-01 09:30:00.694857858           NaN           NaN   5.0  242.030  "
      ]
     },
     "execution_count": 30,
     "metadata": {},
     "output_type": "execute_result"
    }
   ],
   "source": [
    "taq.head()"
   ]
  },
  {
   "cell_type": "code",
   "execution_count": 31,
   "metadata": {},
   "outputs": [
    {
     "data": {
      "text/plain": [
       "<matplotlib.axes._subplots.AxesSubplot at 0x26184270d48>"
      ]
     },
     "execution_count": 31,
     "metadata": {},
     "output_type": "execute_result"
    },
    {
     "data": {
      "image/png": "[encoded data removed]",
      "text/plain": [
       "<Figure size 1008x432 with 1 Axes>"
      ]
     },
     "metadata": {
      "needs_background": "light"
     },
     "output_type": "display_data"
    }
   ],
   "source": [
    "trades['2019-08-30']['PRICE'].plot()"
   ]
  },
  {
   "cell_type": "code",
   "execution_count": null,
   "metadata": {},
   "outputs": [],
   "source": []
  }
 ],
 "metadata": {
  "kernelspec": {
   "display_name": "Python 3",
   "language": "python",
   "name": "python3"
  },
  "language_info": {
   "codemirror_mode": {
    "name": "ipython",
    "version": 3
   },
   "file_extension": ".py",
   "mimetype": "text/x-python",
   "name": "python",
   "nbconvert_exporter": "python",
   "pygments_lexer": "ipython3",
   "version": "3.7.4"
  }
 },
 "nbformat": 4,
 "nbformat_minor": 4
}
