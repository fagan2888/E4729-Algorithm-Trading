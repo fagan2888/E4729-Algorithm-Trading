{
 "cells": [
  {
   "cell_type": "code",
   "execution_count": 1,
   "metadata": {},
   "outputs": [],
   "source": [
    "import os\n",
    "import glob\n",
    "import numpy as np\n",
    "import pandas as pd"
   ]
  },
  {
   "cell_type": "code",
   "execution_count": 2,
   "metadata": {},
   "outputs": [],
   "source": [
    "debug = False"
   ]
  },
  {
   "cell_type": "code",
   "execution_count": 3,
   "metadata": {},
   "outputs": [],
   "source": [
    "rawDataList = glob.glob(os.getcwd() + '/raw_data/*.csv')"
   ]
  },
  {
   "cell_type": "code",
   "execution_count": 4,
   "metadata": {},
   "outputs": [
    {
     "data": {
      "text/plain": [
       "['/home/jovyan/work/E4729-Algorithm-Trading/project/raw_data/GASCMDUSD-M1-NoSession.csv',\n",
       " '/home/jovyan/work/E4729-Algorithm-Trading/project/raw_data/LIGHTCMDUSD-M1-NoSession.csv',\n",
       " '/home/jovyan/work/E4729-Algorithm-Trading/project/raw_data/BTCUSD-M1-NoSession.csv']"
      ]
     },
     "execution_count": 4,
     "metadata": {},
     "output_type": "execute_result"
    }
   ],
   "source": [
    "rawDataList"
   ]
  },
  {
   "cell_type": "code",
   "execution_count": 5,
   "metadata": {},
   "outputs": [
    {
     "name": "stdout",
     "output_type": "stream",
     "text": [
      "==================== \n",
      "\n",
      "GASCMDUSD\n",
      "\n",
      "shape:  (1885179, 8)\n",
      "\n",
      "NaNs:  0\n",
      "\n",
      " Date                 int64\n",
      "Time                object\n",
      "Open               float64\n",
      "High               float64\n",
      "Low                float64\n",
      "Close              float64\n",
      "Volume               int64\n",
      "Datetime    datetime64[ns]\n",
      "dtype: object\n",
      "==================== \n",
      "\n",
      "LIGHTCMDUSD\n",
      "\n",
      "shape:  (2228586, 8)\n",
      "\n",
      "NaNs:  0\n",
      "\n",
      " Date                 int64\n",
      "Time                object\n",
      "Open               float64\n",
      "High               float64\n",
      "Low                float64\n",
      "Close              float64\n",
      "Volume               int64\n",
      "Datetime    datetime64[ns]\n",
      "dtype: object\n",
      "==================== \n",
      "\n",
      "BTCUSD\n",
      "\n",
      "shape:  (1074889, 8)\n",
      "\n",
      "NaNs:  0\n",
      "\n",
      " Date                 int64\n",
      "Time                object\n",
      "Open               float64\n",
      "High               float64\n",
      "Low                float64\n",
      "Close              float64\n",
      "Volume               int64\n",
      "Datetime    datetime64[ns]\n",
      "dtype: object\n"
     ]
    }
   ],
   "source": [
    "if debug: \n",
    "    nrows = 5\n",
    "else:\n",
    "    nrows = None\n",
    "    \n",
    "\n",
    "for data_path in rawDataList:\n",
    "    name = data_path.split('/raw_data/')[1].split('-M1')[0]\n",
    "    \n",
    "    data = pd.read_csv(data_path, nrows=nrows)\n",
    "    data['Datetime'] = pd.to_datetime(\n",
    "        data['Date'].astype(str) + ' ' + data['Time'], \n",
    "        format='%Y%m%d %H:%M:%S'\n",
    "    )\n",
    "    print('=' * 20, '\\n')\n",
    "    print(name)\n",
    "    print('\\nshape: ', data.shape)\n",
    "    print('\\nNaNs: ', data.isnull().sum().sum())\n",
    "    print('\\n', data.dtypes)\n",
    "    \n",
    "    data.drop(['Date', 'Time'], axis=1).to_csv(os.getcwd() + '/clean_data/' + name + '.csv', index=False)"
   ]
  },
  {
   "cell_type": "code",
   "execution_count": null,
   "metadata": {},
   "outputs": [],
   "source": []
  }
 ],
 "metadata": {
  "kernelspec": {
   "display_name": "Python 3",
   "language": "python",
   "name": "python3"
  },
  "language_info": {
   "codemirror_mode": {
    "name": "ipython",
    "version": 3
   },
   "file_extension": ".py",
   "mimetype": "text/x-python",
   "name": "python",
   "nbconvert_exporter": "python",
   "pygments_lexer": "ipython3",
   "version": "3.7.3"
  }
 },
 "nbformat": 4,
 "nbformat_minor": 2
}
